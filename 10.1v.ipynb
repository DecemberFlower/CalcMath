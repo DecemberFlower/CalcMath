{
 "cells": [
  {
   "cell_type": "code",
   "execution_count": 5,
   "metadata": {},
   "outputs": [],
   "source": [
    "import numpy as np\n",
    "import math\n",
    "from matplotlib import pyplot as plt\n",
    "from numpy import linalg as LA"
   ]
  },
  {
   "cell_type": "markdown",
   "metadata": {},
   "source": [
    "Наше уравнение:$$u_{t}=u_{x x}+\\pi^{2} \\sin (\\pi x); u(0, t)=u(1, t)=0, u(x, 0)=0$$\n",
    "Точным решением данного уравнения является:$$u(x, t)=\\left(1-e^{-\\pi^{2} t}\\right) \\sin (\\pi x)$$\n",
    "Мы же будем использовать следующую разностную схему:$$\\frac{y_{m}^{n+1}-y_{m}^{n}}{\\tau}=\\frac{y_{m+1}^{n}-2 y_{m}^{n}+y_{m-1}^{n}}{h^{2}}+\\pi^{2} \\sin (\\pi m h), y_{0}^{n}=y_{M}^{n}=0, y_{m}^{0}=0$$\n",
    "Откуда сразу выразим$$y_{m}^{n+1}=y_{m}^{n}+\\tau\\left(\\frac{y_{m+1}^{n}-2 y_{m}^{n}+y_{m-1}^{n}}{h^{2}}+\\pi^{2} \\sin (\\pi m h)\\right)$$\n",
    "Данная схема устойчива когда:$$\\tau / h^{2} \\leq 1 / 2$$"
   ]
  },
  {
   "cell_type": "code",
   "execution_count": 13,
   "metadata": {},
   "outputs": [],
   "source": [
    "dx = 0.01\n",
    "dt = (dx)**2/4\n",
    "T_max = 1/(math.pi**2)\n",
    "N = int(T_max/dt)\n",
    "M = int(1/dx)"
   ]
  },
  {
   "cell_type": "code",
   "execution_count": 7,
   "metadata": {},
   "outputs": [],
   "source": [
    "y = np.zeros((N+1,M+1))\n",
    "for i in range(N):\n",
    "    for j in range (1,M):\n",
    "        y[i+1][j] = y[i][j] + dt*((y[i][j+1] - 2*y[i][j] + y[i][j-1])/(dx)**2 + math.pi**2 * math.sin(math.pi*j*dx))"
   ]
  },
  {
   "cell_type": "markdown",
   "metadata": {},
   "source": [
    "Построим график разности разностного решения и точного решения. Подставляя n от 0 до 4052, можно смотреть ошибку в разные моменты времени."
   ]
  },
  {
   "cell_type": "code",
   "execution_count": 12,
   "metadata": {},
   "outputs": [
    {
     "data": {
      "text/plain": [
       "[<matplotlib.lines.Line2D at 0x47914c0>]"
      ]
     },
     "execution_count": 12,
     "metadata": {},
     "output_type": "execute_result"
    },
    {
     "data": {
      "image/png": "[encoded data removed]",
      "text/plain": [
       "<Figure size 432x288 with 1 Axes>"
      ]
     },
     "metadata": {
      "needs_background": "light"
     },
     "output_type": "display_data"
    }
   ],
   "source": [
    "x = np.arange(0,1+dx,dx)\n",
    "n = 4051\n",
    "plt.plot(x,(1-math.e**(-math.pi**2 * n *dt)) * np.sin(math.pi*x)-y[n])"
   ]
  },
  {
   "cell_type": "code",
   "execution_count": null,
   "metadata": {},
   "outputs": [],
   "source": []
  }
 ],
 "metadata": {
  "kernelspec": {
   "display_name": "Python 3",
   "language": "python",
   "name": "python3"
  },
  "language_info": {
   "codemirror_mode": {
    "name": "ipython",
    "version": 3
   },
   "file_extension": ".py",
   "mimetype": "text/x-python",
   "name": "python",
   "nbconvert_exporter": "python",
   "pygments_lexer": "ipython3",
   "version": "3.8.2"
  }
 },
 "nbformat": 4,
 "nbformat_minor": 4
}
