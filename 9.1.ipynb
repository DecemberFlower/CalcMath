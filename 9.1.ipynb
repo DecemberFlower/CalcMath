from math import exp
z = 0
y = 0
h = 0.01
for i in range(1, 1000):
    z = z + h * ((h * i * exp(-h * i)) + y * (10 + (h * i) ** 2))
    y = y + z * h
    print(h * i, y)
z = 1
y = 0
h = 0.01
for i in range(1, 1000):
    z = z + h * ((h * i * exp(-h * i)) + y * (10 + (h * i) ** 2))
    y = y + z * h
    print(h * i, y)
z = 0
y = 1
h = 0.01
for i in range(1, 1000):
    z = z + h * ((h * i * exp(-h * i)) + y * (10 + (h * i) ** 2))
    y = y + z * h
    print(h * i, y)
