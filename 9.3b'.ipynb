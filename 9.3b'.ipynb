{
 "cells": [
  {
   "cell_type": "code",
   "execution_count": 3,
   "metadata": {},
   "outputs": [],
   "source": [
    "import numpy as np\n",
    "import math\n",
    "from matplotlib import pyplot as plt\n",
    "from numpy import linalg as LA"
   ]
  },
  {
   "cell_type": "markdown",
   "metadata": {},
   "source": [
    "Задача поставлена как $\\left\\{\\begin{array}{cc}\n",
    "y^{\\prime \\prime}-x \\sqrt{y}=0, & 0 \\leq x \\leq 1 \\\\\n",
    "y(0)=0, \\int_{0}^{1} y(x) d x=1\n",
    "\\end{array}\\right.$"
   ]
  },
  {
   "cell_type": "markdown",
   "metadata": {},
   "source": [
    "Используем схему аппроксимации второй производной $y'' \\approx \\frac{y^{n+1}-2y^n+y^{n-1}}{h^2}$. А также начальные условия $y^0 = 0, y^1 = \\alpha h,$ где $\\alpha$ – прицельный параметр."
   ]
  },
  {
   "cell_type": "code",
   "execution_count": 5,
   "metadata": {},
   "outputs": [
    {
     "data": {
      "text/plain": [
       "[<matplotlib.lines.Line2D at 0xf37e7f0>]"
      ]
     },
     "execution_count": 5,
     "metadata": {},
     "output_type": "execute_result"
    },
    {
     "data": {
      "image/png": "[encoded data removed]",
      "text/plain": [
       "<Figure size 432x288 with 1 Axes>"
      ]
     },
     "metadata": {
      "needs_background": "light"
     },
     "output_type": "display_data"
    }
   ],
   "source": [
    "h = 0.001\n",
    "l = 0\n",
    "r = 10\n",
    "s = 0\n",
    "while abs(s - 1) > (1e-4):\n",
    "    y = np.zeros(1001)\n",
    "    z = 0.5 * (l + r)\n",
    "    y[0] = 0\n",
    "    y[1] = h * z\n",
    "    s = h ** 2 * z / 2\n",
    "    for i in range(1, 1000):\n",
    "        y[i + 1] = 2 * y[i] - y[i - 1] + h * h * (h * i * y[i] ** 0.5)\n",
    "        s += h/2 * (y[i + 1] + y[i])\n",
    "    if (s > 1) & (abs(s - 1) > 1e-4):\n",
    "        r = 0.5 * (l + r)\n",
    "    if (s < 1) & (abs(s - 1) > 1e-4):\n",
    "        l = 0.5 * (l + r)\n",
    "x = np.arange(0, 1 + h, h)\n",
    "plt.plot(x, y)"
   ]
  },
  {
   "cell_type": "code",
   "execution_count": null,
   "metadata": {},
   "outputs": [],
   "source": []
  }
 ],
 "metadata": {
  "kernelspec": {
   "display_name": "Python 3",
   "language": "python",
   "name": "python3"
  },
  "language_info": {
   "codemirror_mode": {
    "name": "ipython",
    "version": 3
   },
   "file_extension": ".py",
   "mimetype": "text/x-python",
   "name": "python",
   "nbconvert_exporter": "python",
   "pygments_lexer": "ipython3",
   "version": "3.8.2"
  }
 },
 "nbformat": 4,
 "nbformat_minor": 4
}
