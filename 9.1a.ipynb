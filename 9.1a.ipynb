{
 "cells": [
  {
   "cell_type": "code",
   "execution_count": 18,
   "metadata": {},
   "outputs": [],
   "source": [
    "import numpy as np\n",
    "import math\n",
    "from math import exp\n",
    "from matplotlib import pyplot as plt\n",
    "from numpy import linalg as LA"
   ]
  },
  {
   "cell_type": "markdown",
   "metadata": {},
   "source": [
    "Имеем задачу $$y''-(10+x^2)y=f,$$ где по условию $f = xe^{-x}$\n",
    "\n",
    "Решим задачи при трёх условиях:\n",
    "\n",
    "1)$y(0) = 1, y'(0) = 0, f = 0$\n",
    "\n",
    "2)$y(0) = 1, y'(0) = 0, f = 0$\n",
    "\n",
    "3)$y(0) = 0, y'(0) = 0, f = xe^{-x}$"
   ]
  },
  {
   "cell_type": "code",
   "execution_count": 19,
   "metadata": {},
   "outputs": [
    {
     "data": {
      "text/plain": [
       "[<matplotlib.lines.Line2D at 0xf376820>]"
      ]
     },
     "execution_count": 19,
     "metadata": {},
     "output_type": "execute_result"
    },
    {
     "data": {
      "image/png": "[encoded data removed]",
      "text/plain": [
       "<Figure size 432x288 with 1 Axes>"
      ]
     },
     "metadata": {
      "needs_background": "light"
     },
     "output_type": "display_data"
    }
   ],
   "source": [
    "h = 0.01\n",
    "x = np.arange(0, 10 + h, h)\n",
    "\n",
    "y = np.zeros(1001)\n",
    "y[0] = 1\n",
    "y[1] = 1\n",
    "for i in range(1, 1000):\n",
    "    y[i + 1] = 2 * y[i] - y[i - 1] + h * h * ( y[i] * (10 + (h * i) ** 2))\n",
    "plt.plot(x, y)\n",
    "\n",
    "y = np.zeros(1001)\n",
    "y[0] = 0\n",
    "y[1] = h\n",
    "for i in range(1, 1000):\n",
    "    y[i + 1] = 2 * y[i] - y[i - 1] + h * h * ( y[i] * (10 + (h * i) ** 2))\n",
    "plt.plot(x, y)\n",
    "\n",
    "y = np.zeros(1001)\n",
    "y[0] = 0\n",
    "y[1] = 0\n",
    "for i in range(1, 1000):\n",
    "    y[i + 1] = 2 * y[i] - y[i - 1] + h * h * ((h * i * exp(-h * i)) + y[i] * (10 + (h * i) ** 2))\n",
    "plt.plot(x, y)\n",
    "\n",
    "\n"
   ]
  },
  {
   "cell_type": "markdown",
   "metadata": {},
   "source": [
    "Соответственно получаем, что синий график – первое решение, оранжевый – второе, зелёный – третье"
   ]
  },
  {
   "cell_type": "code",
   "execution_count": null,
   "metadata": {},
   "outputs": [],
   "source": []
  }
 ],
 "metadata": {
  "kernelspec": {
   "display_name": "Python 3",
   "language": "python",
   "name": "python3"
  },
  "language_info": {
   "codemirror_mode": {
    "name": "ipython",
    "version": 3
   },
   "file_extension": ".py",
   "mimetype": "text/x-python",
   "name": "python",
   "nbconvert_exporter": "python",
   "pygments_lexer": "ipython3",
   "version": "3.8.2"
  }
 },
 "nbformat": 4,
 "nbformat_minor": 4
}
